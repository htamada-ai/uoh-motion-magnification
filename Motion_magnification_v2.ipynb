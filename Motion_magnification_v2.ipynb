{
  "nbformat": 4,
  "nbformat_minor": 0,
  "metadata": {
    "colab": {
      "name": "Motion magnification v2.ipynb",
      "provenance": [],
      "collapsed_sections": [],
      "machine_shape": "hm"
    },
    "kernelspec": {
      "name": "python3",
      "display_name": "Python 3"
    },
    "language_info": {
      "name": "python"
    },
    "accelerator": "GPU"
  },
  "cells": [
    {
      "cell_type": "code",
      "source": [
        "gpu_info = !nvidia-smi\n",
        "gpu_info = '\\n'.join(gpu_info)\n",
        "if gpu_info.find('failed') >= 0:\n",
        "  print('Not connected to a GPU')\n",
        "else:\n",
        "  print(gpu_info)"
      ],
      "metadata": {
        "colab": {
          "base_uri": "https://localhost:8080/"
        },
        "id": "_duz2i25T9uR",
        "outputId": "7b647e90-e171-4552-a79e-d8f460615908"
      },
      "execution_count": null,
      "outputs": [
        {
          "output_type": "stream",
          "name": "stdout",
          "text": [
            "Sun Mar 27 03:18:48 2022       \n",
            "+-----------------------------------------------------------------------------+\n",
            "| NVIDIA-SMI 460.32.03    Driver Version: 460.32.03    CUDA Version: 11.2     |\n",
            "|-------------------------------+----------------------+----------------------+\n",
            "| GPU  Name        Persistence-M| Bus-Id        Disp.A | Volatile Uncorr. ECC |\n",
            "| Fan  Temp  Perf  Pwr:Usage/Cap|         Memory-Usage | GPU-Util  Compute M. |\n",
            "|                               |                      |               MIG M. |\n",
            "|===============================+======================+======================|\n",
            "|   0  Tesla P100-PCIE...  Off  | 00000000:00:04.0 Off |                    0 |\n",
            "| N/A   50C    P0    31W / 250W |      0MiB / 16280MiB |      0%      Default |\n",
            "|                               |                      |                  N/A |\n",
            "+-------------------------------+----------------------+----------------------+\n",
            "                                                                               \n",
            "+-----------------------------------------------------------------------------+\n",
            "| Processes:                                                                  |\n",
            "|  GPU   GI   CI        PID   Type   Process name                  GPU Memory |\n",
            "|        ID   ID                                                   Usage      |\n",
            "|=============================================================================|\n",
            "|  No running processes found                                                 |\n",
            "+-----------------------------------------------------------------------------+\n"
          ]
        }
      ]
    },
    {
      "cell_type": "code",
      "execution_count": null,
      "metadata": {
        "id": "fFLP9luGToy2"
      },
      "outputs": [],
      "source": [
        "import tensorflow as tf\n",
        "\n",
        "import numpy as np\n",
        "import IPython.display as display\n",
        "\n",
        "from tensorflow.keras.layers import Layer, Conv2D, Activation, Add, Input, UpSampling2D\n",
        "from tensorflow.keras.models import Model"
      ]
    },
    {
      "cell_type": "code",
      "source": [
        "encoder_config = {\n",
        "    'conv2d_1' : {\n",
        "                \"filters\" : 16,\n",
        "                \"kernel_size\" : 7,\n",
        "                \"strides\" : (1, 1),\n",
        "                \"activation\" : \"relu\",\n",
        "                \"padding\" : \"same\"\n",
        "            },\n",
        "    'conv2d_2' : {\n",
        "                \"filters\" : 32,\n",
        "                \"kernel_size\" : 3,\n",
        "                \"strides\" : (2, 2),\n",
        "                \"activation\" : \"relu\",\n",
        "                \"padding\" : \"same\"\n",
        "            },\n",
        "    'conv2d_3' : {\n",
        "                \"filters\" : 32,\n",
        "                \"kernel_size\" : 3,\n",
        "                \"strides\" : (1, 1),\n",
        "                \"activation\" : \"relu\",\n",
        "                \"padding\" : \"same\"\n",
        "            },\n",
        "    'residual_1' : {\n",
        "                \"channels_in\" : 32,\n",
        "                \"kernel_size\" : 3\n",
        "        },\n",
        "}\n",
        "\n",
        "manipulator_config = {\n",
        "    'conv2d_1' : {\n",
        "                \"filters\" : 32,\n",
        "                \"kernel_size\" : 3,\n",
        "                \"strides\" : (1, 1),\n",
        "                \"activation\" : \"relu\",\n",
        "                \"padding\" : \"same\"\n",
        "            },\n",
        "    'conv2d_2' : {\n",
        "                \"filters\" : 32,\n",
        "                \"kernel_size\" : 7,\n",
        "                \"strides\" : (1, 1),\n",
        "                \"activation\" : \"relu\",\n",
        "                \"padding\" : \"same\"\n",
        "            },\n",
        "    'residual_1' : {\n",
        "                \"channels_in\" : 32,\n",
        "                \"kernel_size\" : 3\n",
        "        },\n",
        "}\n",
        "\n",
        "decoder_config = {\n",
        "    \"upsampling_1\" : {\n",
        "        \"size\" : (2,2),\n",
        "        \"interpolation\" : \"nearest\"\n",
        "    },\n",
        "    'conv2d_1' : {\n",
        "                \"filters\" : 32,\n",
        "                \"kernel_size\" : 3,\n",
        "                \"strides\" : (1, 1),\n",
        "                \"activation\" : \"relu\",\n",
        "                \"padding\" : \"same\"\n",
        "            },\n",
        "    'conv2d_2' : {\n",
        "                \"filters\" : 3,\n",
        "                \"kernel_size\" : 7,\n",
        "                \"strides\" : (1, 1),\n",
        "                \"activation\" : \"relu\",\n",
        "                \"padding\" : \"same\"\n",
        "            },\n",
        "    'residual_1' : {\n",
        "                \"channels_in\" : 64,\n",
        "                \"kernel_size\" : 3\n",
        "        },\n",
        "}"
      ],
      "metadata": {
        "id": "T9HX_fRNV3yf"
      },
      "execution_count": null,
      "outputs": []
    },
    {
      "cell_type": "code",
      "source": [
        "class ResidualBlock(Layer):\n",
        "    def __init__(self, channels_in, kernel_size, **kwargs):\n",
        "        super(ResidualBlock, self).__init__(**kwargs)\n",
        "        self.trainable = True\n",
        "        self.channels_in = channels_in\n",
        "        self.kernel_size = kernel_size\n",
        "\n",
        "        self.c1 = Conv2D( filters=self.channels_in,\n",
        "                    kernel_size=self.kernel_size,\n",
        "                    padding=\"same\"\n",
        "                  )\n",
        "        self.c2 = Conv2D( filters=self.channels_in,\n",
        "                    kernel_size=self.kernel_size,\n",
        "                    padding=\"same\"\n",
        "                  )\n",
        "        self.activation = Activation(activation=\"relu\")\n",
        "        \n",
        "\n",
        "    def call(self, x):\n",
        "        self.first_layer = x\n",
        "        x = self.c1(x)\n",
        "        x = self.activation(x)\n",
        "        x = self.c2(x)\n",
        "        residual = Add()([x, self.first_layer])\n",
        "        x = Activation(activation=\"relu\")(residual)\n",
        "\n",
        "        return x\n",
        "\n",
        "\n",
        "    def compute_output_shape(self, input_shape):\n",
        "\n",
        "        return input_shape\n",
        "\n",
        "\n",
        "class Encoder(tf.keras.layers.Layer):\n",
        "    def __init__(self, name, network_config, **kwargs):\n",
        "        super(Encoder, self).__init__(name=name, **kwargs)\n",
        "        self.trainable = True\n",
        "        self.network_config = network_config\n",
        "\n",
        "        self.c1 = Conv2D(**self.network_config.get('conv2d_1', {}))\n",
        "        self.c2 = Conv2D(**self.network_config.get('conv2d_2', {}))\n",
        "        self.c3 = Conv2D(**self.network_config.get('conv2d_2', {}))\n",
        "        self.c4 = Conv2D(**self.network_config.get('conv2d_3', {}))\n",
        "        \n",
        "        self.r1 = ResidualBlock(**self.network_config.get('residual_1', {}))\n",
        "        self.r2 = ResidualBlock(**self.network_config.get('residual_1', {}))\n",
        "        self.r3 = ResidualBlock(**self.network_config.get('residual_1', {}))\n",
        "        self.r4 = ResidualBlock(**self.network_config.get('residual_1', {}))\n",
        "        self.r5 = ResidualBlock(**self.network_config.get('residual_1', {}))\n",
        "        self.r6 = ResidualBlock(**self.network_config.get('residual_1', {}))\n",
        "        self.r7 = ResidualBlock(**self.network_config.get('residual_1', {}))\n",
        "    \n",
        "    def call(self, x): \n",
        "        texture_repr, shape_repr = None, None\n",
        "\n",
        "        x = self.c1(x)\n",
        "        x = self.c2(x)\n",
        "        x = self.r1(x)\n",
        "        x = self.r2(x)\n",
        "        x = self.r3(x)\n",
        "        \n",
        "        texture_repr = self.c3(x)\n",
        "        x = self.r4(x)\n",
        "        x = self.r5(x)\n",
        "        \n",
        "        shape_repr = self.c4(x)\n",
        "        x = self.r6(x)\n",
        "        x = self.r7(x)\n",
        "\n",
        "        return texture_repr, shape_repr\n",
        "\n",
        "class Manipulator(Layer):\n",
        "    def __init__(self, network_config, **kwargs):\n",
        "        super(Manipulator, self).__init__(name=\"Manipulator\", **kwargs)\n",
        "        self.trainable = True\n",
        "        self.network_config = network_config\n",
        "\n",
        "        self.c1 = Conv2D(**self.network_config.get('conv2d_1', {}))\n",
        "        self.c2 = Conv2D(**self.network_config.get('conv2d_1', {}))\n",
        "\n",
        "        self.r1 = ResidualBlock(**self.network_config.get('residual_1', {}))\n",
        "\n",
        "    def call(self, shape_repr_frameA, shape_repr_frameB, amplification_factor):\n",
        "        shape_repr_frameB = tf.math.subtract(shape_repr_frameB, shape_repr_frameA)\n",
        "        shape_repr_frameB = self.c1(shape_repr_frameB)\n",
        "        shape_repr_frameB = shape_repr_frameB * amplification_factor\n",
        "        shape_repr_frameB = self.c2(shape_repr_frameB)\n",
        "        shape_repr_frameB = self.r1(shape_repr_frameB)\n",
        "        \n",
        "        x = tf.math.add(shape_repr_frameA, shape_repr_frameB)\n",
        "\n",
        "        return x\n",
        "\n",
        "\n",
        "class Decoder(Layer):\n",
        "    def __init__(self, network_config, **kwargs):\n",
        "        super(Decoder, self).__init__(name=\"Decoder\", **kwargs)\n",
        "        self.trainable = True\n",
        "        self.network_config = network_config\n",
        "\n",
        "        self.us1 = UpSampling2D(**self.network_config.get('upsampling_1', {}))\n",
        "        self.us2 = UpSampling2D(**self.network_config.get('upsampling_1', {}))\n",
        "\n",
        "        self.c1 = Conv2D(**self.network_config.get('conv2d_1', {}))\n",
        "        self.c2 = Conv2D(**self.network_config.get('conv2d_2', {}))\n",
        "\n",
        "        self.r1 = ResidualBlock(**self.network_config.get('residual_1', {}))\n",
        "        self.r2 = ResidualBlock(**self.network_config.get('residual_1', {}))\n",
        "        self.r3 = ResidualBlock(**self.network_config.get('residual_1', {}))\n",
        "        self.r4 = ResidualBlock(**self.network_config.get('residual_1', {}))\n",
        "        self.r5 = ResidualBlock(**self.network_config.get('residual_1', {}))\n",
        "        self.r6 = ResidualBlock(**self.network_config.get('residual_1', {}))\n",
        "        self.r7 = ResidualBlock(**self.network_config.get('residual_1', {}))\n",
        "        self.r8 = ResidualBlock(**self.network_config.get('residual_1', {}))\n",
        "        self.r9 = ResidualBlock(**self.network_config.get('residual_1', {}))\n",
        "\n",
        "    def call(self, texture_repr, shape_repr):\n",
        "        texture_repr = self.us1(texture_repr)\n",
        "        x = tf.concat([texture_repr, shape_repr], axis = 3)\n",
        "        x = self.r1(x)\n",
        "        x = self.r2(x)\n",
        "        x = self.r3(x)\n",
        "        x = self.r4(x)\n",
        "        x = self.r5(x)\n",
        "        x = self.r6(x)\n",
        "        x = self.r7(x)\n",
        "        x = self.r8(x)\n",
        "        x = self.r9(x)\n",
        "        x = self.us2(x)\n",
        "        x = self.c1(x)\n",
        "        x = self.c2(x)\n",
        "    \n",
        "        return x"
      ],
      "metadata": {
        "id": "Gd1uphuzTwkN"
      },
      "execution_count": null,
      "outputs": []
    },
    {
      "cell_type": "code",
      "source": [
        "class MotionDetectionModel(Model):\n",
        "    def __init__(self):\n",
        "        super(MotionDetectionModel, self).__init__()        \n",
        "        self.amplification_factor = Input(shape = (1,1,1))\n",
        "        self.encoder = Encoder(network_config=encoder_config, name=\"Encoder\")\n",
        "        self.manipulator = Manipulator(network_config=manipulator_config)\n",
        "        self.decoder = Decoder(network_config=decoder_config)\n",
        "\n",
        "    def call(self, inputs):\n",
        "        input_frameA = inputs[0]\n",
        "        input_frameB = inputs[1]\n",
        "        input_amplification_factor = inputs[2]\n",
        "\n",
        "        print(type(input_frameA), type(input_frameB), type(input_amplification_factor))\n",
        "        _, shape_repr_frameA = self.encoder(input_frameA)\n",
        "        texture_repr_frameB, shape_repr_frameB = self.encoder(input_frameB)\n",
        "\n",
        "        shape_repr_manipulator = self.manipulator(shape_repr_frameA, shape_repr_frameB, input_amplification_factor)\n",
        "        output = self.decoder(texture_repr_frameB, shape_repr_manipulator)\n",
        "        return output\n",
        "\n",
        "    def build_graph(self, img_raw_shape, amp_factor_raw_shape):\n",
        "        frameA = Input(shape=img_raw_shape)\n",
        "        frameB = Input(shape=img_raw_shape)\n",
        "        amplied = Input(shape=img_raw_shape)\n",
        "        amplification_factor = Input(shape = amp_factor_raw_shape)\n",
        "        return Model(inputs=[frameA, frameB, amplification_factor], outputs=self.call([frameA, frameB, amplification_factor]))"
      ],
      "metadata": {
        "id": "MM-4p4bkw5x7"
      },
      "execution_count": null,
      "outputs": []
    },
    {
      "cell_type": "code",
      "source": [
        "def create_model():\n",
        "    frameA  = Input(shape=(384,384,3))\n",
        "    frameB = Input(shape=(384,384,3))\n",
        "    amp_factor = Input(shape = (1,1,1))\n",
        "    enc = Encoder(name=\"Encoder\", network_config=encoder_config)\n",
        "    # enc = encoder(network_config=encoder_config)\n",
        "    texture_A , shape_A  = enc(frameA)\n",
        "    texture_B , shape_B = enc(frameB)\n",
        "    shape_B = Manipulator(network_config=manipulator_config)(shape_A,shape_B,amp_factor)\n",
        "    out = Decoder(network_config=decoder_config)(texture_B,shape_B)\n",
        "    model = Model(inputs = [frameA,frameB,amp_factor], outputs = out)\n",
        "    return model"
      ],
      "metadata": {
        "id": "fm51h8ZSxuf_"
      },
      "execution_count": null,
      "outputs": []
    },
    {
      "cell_type": "code",
      "source": [
        "img_raw_shape = (384,384,3)\n",
        "amp_factor_raw_shape = (1, 1, 1)\n",
        "\n",
        "# model = MotionDetectionModel()\n",
        "# model([tf.ones(shape=(0,*img_raw_shape)), tf.ones(shape=(0,*img_raw_shape)), tf.ones(shape=(0,*amp_factor_raw_shape))])\n",
        "# model.build_graph(img_raw_shape, amp_factor_raw_shape).summary()\n",
        "\n",
        "model = create_model()\n",
        "model.summary()"
      ],
      "metadata": {
        "colab": {
          "base_uri": "https://localhost:8080/"
        },
        "id": "8fB76imhUYVe",
        "outputId": "6559fb49-3b60-477f-8289-b493288b07a1"
      },
      "execution_count": null,
      "outputs": [
        {
          "output_type": "stream",
          "name": "stdout",
          "text": [
            "Model: \"model\"\n",
            "__________________________________________________________________________________________________\n",
            " Layer (type)                   Output Shape         Param #     Connected to                     \n",
            "==================================================================================================\n",
            " input_2 (InputLayer)           [(None, 384, 384, 3  0           []                               \n",
            "                                )]                                                                \n",
            "                                                                                                  \n",
            " input_1 (InputLayer)           [(None, 384, 384, 3  0           []                               \n",
            "                                )]                                                                \n",
            "                                                                                                  \n",
            " Encoder (Encoder)              ((None, 96, 96, 32)  154976      ['input_1[0][0]',                \n",
            "                                , (None, 192, 192,                'input_2[0][0]']                \n",
            "                                32))                                                              \n",
            "                                                                                                  \n",
            " input_3 (InputLayer)           [(None, 1, 1, 1)]    0           []                               \n",
            "                                                                                                  \n",
            " Manipulator (Manipulator)      (None, 192, 192, 32  36992       ['Encoder[0][1]',                \n",
            "                                )                                 'Encoder[1][1]',                \n",
            "                                                                  'input_3[0][0]']                \n",
            "                                                                                                  \n",
            " Decoder (Decoder)              (None, 384, 384, 3)  687875      ['Encoder[1][0]',                \n",
            "                                                                  'Manipulator[0][0]']            \n",
            "                                                                                                  \n",
            "==================================================================================================\n",
            "Total params: 879,843\n",
            "Trainable params: 879,843\n",
            "Non-trainable params: 0\n",
            "__________________________________________________________________________________________________\n"
          ]
        }
      ]
    },
    {
      "cell_type": "code",
      "source": [
        "from google.colab import drive"
      ],
      "metadata": {
        "id": "Y3BszZaTw-3o"
      },
      "execution_count": null,
      "outputs": []
    },
    {
      "cell_type": "code",
      "source": [
        "BASE_DIR = \"/content/drive/My Drive/motion_detection/data\"\n",
        "FRAME_A_FOLDER = 'frameA_10k'\n",
        "FRAME_B_FOLDER = 'frameB_10k'\n",
        "FRAME_C_FOLDER = 'frameC_10k'\n",
        "AMPLIFIED_FOLDER = 'amplified_10k'\n",
        "META_JSON_FOLDER = 'metadata_10k'\n",
        "IMG_WIDTH, IMG_HEIGHT, IMG_CHANNELS = 384, 384, 3\n",
        "\n",
        "drive.mount('/content/drive')\n",
        "# !ls \"/content/drive/My Drive\"\n",
        "%cd $BASE_DIR"
      ],
      "metadata": {
        "colab": {
          "base_uri": "https://localhost:8080/"
        },
        "id": "x-hcCA8v1T3_",
        "outputId": "24237196-dd7f-4f05-c805-38326b124e12"
      },
      "execution_count": null,
      "outputs": [
        {
          "output_type": "stream",
          "name": "stdout",
          "text": [
            "Drive already mounted at /content/drive; to attempt to forcibly remount, call drive.mount(\"/content/drive\", force_remount=True).\n",
            "/content/drive/My Drive/motion_detection/data\n"
          ]
        }
      ]
    },
    {
      "cell_type": "markdown",
      "source": [
        "# New Section"
      ],
      "metadata": {
        "id": "MJaDFiukMW_x"
      }
    },
    {
      "cell_type": "code",
      "source": [
        "!cp -rf /content/drive/MyDrive/motion_detection/data /content/dataset/"
      ],
      "metadata": {
        "id": "5XiR-sKwUWVO"
      },
      "execution_count": null,
      "outputs": []
    },
    {
      "cell_type": "code",
      "source": [
        "BASE_DIR = \"/content/dataset\""
      ],
      "metadata": {
        "id": "WVay5CRyVkVB"
      },
      "execution_count": null,
      "outputs": []
    },
    {
      "cell_type": "code",
      "source": [
        "import glob\n",
        "import os\n",
        "import random\n",
        "import json\n",
        "import cv2\n",
        "from tqdm import tqdm\n",
        "\n",
        "from tensorflow.keras.utils import Sequence\n",
        "import pandas as pd"
      ],
      "metadata": {
        "id": "4HiLuuiQ1tH5"
      },
      "execution_count": null,
      "outputs": []
    },
    {
      "cell_type": "code",
      "source": [
        "train_filenames_path = '/content/dataset/train_filenames.txt'\n",
        "validation_filenames_path = '/content/dataset/validation_filenames.txt'\n",
        "\n",
        "def get_filenames(filepath):\n",
        "    lines = []\n",
        "    with open(filepath) as f:\n",
        "        lines = f.readlines()\n",
        "    lines = [x.strip() for x in lines]\n",
        "    return lines\n",
        "\n",
        "train_filenames = get_filenames(train_filenames_path)\n",
        "val_filenames = get_filenames(validation_filenames_path)\n",
        "len(train_filenames), len(val_filenames)"
      ],
      "metadata": {
        "id": "vEriCLKoGhEV",
        "colab": {
          "base_uri": "https://localhost:8080/"
        },
        "outputId": "937b4495-2c6a-4257-d369-5b5b663a8a10"
      },
      "execution_count": null,
      "outputs": [
        {
          "output_type": "execute_result",
          "data": {
            "text/plain": [
              "(8000, 2000)"
            ]
          },
          "metadata": {},
          "execution_count": 15
        }
      ]
    },
    {
      "cell_type": "code",
      "source": [
        "npz_filepath = '/content/drive/MyDrive/motion_detection/npz_v2'\n",
        "train_df_lst  = []\n",
        "val_df_lst = []\n",
        "\n",
        "\n",
        "def read_image(filepath):\n",
        "    pic_bgr_arr = cv2.imread(filepath)\n",
        "    pic_rgb_arr = cv2.cvtColor(pic_bgr_arr, cv2.COLOR_BGR2RGB)\n",
        "    return pic_rgb_arr/255\n",
        "    # return pic_rgb_arr\n",
        "\n",
        "def get_amplification_value(filepath):\n",
        "    print(filepath)\n",
        "    i = json.load(open(filepath))['amplification_factor']\n",
        "    return np.array(np.reshape([i], (1, 1, 1)), dtype=np.float)\n",
        "\n",
        "def generate_data(location, filenames, name='train'):\n",
        "    npz_paths = []\n",
        "    for filename in tqdm(filenames, desc='Generating {} data...'.format(name)):\n",
        "        npz_path = filename.split('.')[0] + '.npz'\n",
        "        npz_path = os.path.join(location, name, npz_path)\n",
        "        npz_paths.append(npz_path)\n",
        "        if not os.path.exists(npz_path):\n",
        "            frame_A = read_image(os.path.join(BASE_DIR, FRAME_A_FOLDER, filename))\n",
        "            # frame_B = read_image(os.path.join(BASE_DIR, FRAME_B_FOLDER, filename))\n",
        "            frame_C = read_image(os.path.join(BASE_DIR, FRAME_C_FOLDER, filename))\n",
        "            y = read_image(os.path.join(BASE_DIR, AMPLIFIED_FOLDER, filename))\n",
        "            mf = get_amplification_value(os.path.join(BASE_DIR, META_JSON_FOLDER, '{}.json'.format(os.path.splitext(filename)[0])))\n",
        "            np.savez_compressed(npz_path, frameA=frame_A, \n",
        "                                # frameB=frame_B, \n",
        "                                frameC=frame_C, amp_y=y, mf=mf)\n",
        "    npz_df = pd.DataFrame(npz_paths, columns=['npz_filepath'])\n",
        "    npz_df.to_csv(os.path.join(location, 'npz_{}.csv'.format(name)), index=False)\n",
        "    _df = pd.read_csv(os.path.join(location, 'npz_{}.csv'.format(name)))\n",
        "    print(\"\\n Shape\", _df.shape)\n",
        "    print(_df.head())\n"
      ],
      "metadata": {
        "id": "i9efflZzjZs4"
      },
      "execution_count": null,
      "outputs": []
    },
    {
      "cell_type": "code",
      "source": [
        "train_filenames[:5]"
      ],
      "metadata": {
        "colab": {
          "base_uri": "https://localhost:8080/"
        },
        "id": "ZGXXfp5TMl29",
        "outputId": "262a52f4-fa7c-4439-ba80-898b53e33956"
      },
      "execution_count": null,
      "outputs": [
        {
          "output_type": "execute_result",
          "data": {
            "text/plain": [
              "['009962.png', '008945.png', '002921.png', '000672.png', '006497.png']"
            ]
          },
          "metadata": {},
          "execution_count": 17
        }
      ]
    },
    {
      "cell_type": "code",
      "source": [
        "# generate_data(npz_filepath, train_filenames[:1], name='train')\n",
        "# generate_data(npz_filepath, val_filenames, name='val')\n"
      ],
      "metadata": {
        "id": "yYwaVMJSqgJl"
      },
      "execution_count": null,
      "outputs": []
    },
    {
      "cell_type": "code",
      "source": [
        "def data_generator(df, batch_size):    \n",
        "    samples_per_epoch = df.shape[0]\n",
        "    number_of_batches = samples_per_epoch/batch_size\n",
        "    counter=0\n",
        "    while 1:\n",
        "        X_frameA, X_frameB, X_mf, y_amplified = [], [], [], []\n",
        "        for name in df['npz_filepath'].iloc[counter*batch_size:batch_size*(counter+1)]:\n",
        "            loaded_npz = np.load(name)\n",
        "            X_frameA.append(loaded_npz['frameA'])\n",
        "            X_frameB.append(loaded_npz['frameC'])\n",
        "            X_mf.append(loaded_npz['mf'])\n",
        "            y_amplified.append(loaded_npz['amp_y'])\n",
        "        X_frameA, X_frameB, X_mf, y_amplified = np.array(X_frameA), np.array(X_frameB), np.array(X_mf), np.array(y_amplified)\n",
        "        counter += 1   \n",
        "        yield [X_frameA, X_frameB, X_mf], y_amplified\n",
        "        if counter >= number_of_batches:\n",
        "            counter = 0\n",
        "\n",
        "\n",
        "# def get_Xy(df):\n",
        "#     X_frameA, X_frameB, X_mf, y_amplified = [], [], [], []\n",
        "#     for name in df['npz_filepath']:\n",
        "#         loaded_npz = np.load(name)\n",
        "#         X_frameA.append(loaded_npz['frameA'])\n",
        "#         X_frameB.append(loaded_npz['frameC'])\n",
        "#         X_mf.append(loaded_npz['mf'])\n",
        "#         y_amplified.append(loaded_npz['amp_y'])\n",
        "#     X_frameA, X_frameB, X_mf, y_amplified = np.array(X_frameA), np.array(X_frameB), np.array(X_mf), np.array(y_amplified)   \n",
        "#     return (X_frameA, X_frameB, X_mf), y_amplified\n",
        "\n",
        "\n",
        "# def get_Xy(df):\n",
        "#     inputs, outputs = [], []\n",
        "#     for name in df['npz_filepath']:\n",
        "#         loaded_npz = np.load(name)\n",
        "#         input = []\n",
        "#         input.append(loaded_npz['frameA'])\n",
        "#         input.append(loaded_npz['frameC'])\n",
        "#         input.append(loaded_npz['mf'])\n",
        "#         inputs.append(input)\n",
        "#         outputs.append(loaded_npz['amp_y'])\n",
        "#     return inputs, outputs"
      ],
      "metadata": {
        "id": "IX_R3vGNzm6c"
      },
      "execution_count": null,
      "outputs": []
    },
    {
      "cell_type": "code",
      "source": [
        "train_df = pd.read_csv('/content/drive/MyDrive/motion_detection/npz/npz_train.csv')\n",
        "val_df = pd.read_csv('/content/drive/MyDrive/motion_detection/npz/npz_val.csv')"
      ],
      "metadata": {
        "id": "U8MqpZQz_ge6"
      },
      "execution_count": null,
      "outputs": []
    },
    {
      "cell_type": "code",
      "source": [
        "# train_df = pd.read_csv('/content/drive/MyDrive/motion_detection/npz/npz_train.csv')\n",
        "# (X_train_frameA, X_train_frameB, X_train_mf), y_train_amplified = get_Xy(train_df[:1000])\n",
        "# X_train, y_train = get_Xy(train_df)\n",
        "# train_df['npz_filepath'].iloc[2:4]"
      ],
      "metadata": {
        "id": "uPeU1Kn5BP6u"
      },
      "execution_count": null,
      "outputs": []
    },
    {
      "cell_type": "code",
      "source": [
        "# X_train_frameA.shape, X_train_frameB.shape, X_train_mf.shape, y_train_amplified.shape"
      ],
      "metadata": {
        "id": "FlEdNFFuH1OK"
      },
      "execution_count": null,
      "outputs": []
    },
    {
      "cell_type": "code",
      "source": [
        "# val_df = pd.read_csv('/content/drive/MyDrive/motion_detection/npz/npz_val.csv')\n",
        "# (X_val_frameA, X_val_frameB, X_val_mf), y_val_amplified = get_Xy(val_df[:100])\n",
        "# X_val, y_val = get_Xy(val_df)"
      ],
      "metadata": {
        "id": "vewI3hcIEYRb"
      },
      "execution_count": null,
      "outputs": []
    },
    {
      "cell_type": "code",
      "source": [
        "# X_val_frameA.shape, X_val_frameB.shape, X_val_mf.shape, y_val_amplified.shape"
      ],
      "metadata": {
        "id": "D4WSInzQJKG4"
      },
      "execution_count": null,
      "outputs": []
    },
    {
      "cell_type": "code",
      "source": [
        "from tensorflow.keras.optimizers import Adam\n",
        "\n",
        "optimizer = Adam(learning_rate=0.001)\n",
        "\n",
        "model.compile(loss='mse', optimizer=optimizer, metrics=['mean_absolute_error'])"
      ],
      "metadata": {
        "id": "XjTvBGtRAOVK"
      },
      "execution_count": null,
      "outputs": []
    },
    {
      "cell_type": "code",
      "source": [
        "from tensorflow.keras.callbacks import ModelCheckpoint\n",
        "\n",
        "cp = ModelCheckpoint('/content/drive/MyDrive/motion_detection/model/v3/', save_best_only=True, verbose=1, mode='auto', period=1)\n",
        "batch_size = 8\n",
        "\n",
        "# model.fit_generator(\n",
        "#     data_generator(train_df,batch_size),\n",
        "#     epochs=10,\n",
        "#     steps_per_epoch = train_df.shape[0]/batch_size,\n",
        "#     validation_data = data_generator(val_df,batch_size*2),\n",
        "#     validation_steps = train_df.shape[0]/batch_size*2,\n",
        "#     callbacks=[cp]\n",
        "# )\n",
        "\n",
        "# model.fit(x=[X_train_frameA, X_train_frameB, X_train_mf], \n",
        "#           y=y_train_amplified, \n",
        "#           validation_data=([X_val_frameA, X_val_frameB, X_val_mf], y_val_amplified), \n",
        "#           batch_size=10,\n",
        "#           epochs=2, \n",
        "#           callbacks=[cp])\n",
        "\n",
        "# model.fit(x=X_train, y=y_train, validation_data=(X_val, y_val), epochs=2, callbacks=[cp])"
      ],
      "metadata": {
        "colab": {
          "base_uri": "https://localhost:8080/"
        },
        "id": "tPfyw1OvAOZe",
        "outputId": "0a685e6b-4566-4247-9516-65bf7ef0b7b2"
      },
      "execution_count": null,
      "outputs": [
        {
          "output_type": "stream",
          "name": "stdout",
          "text": [
            "WARNING:tensorflow:`period` argument is deprecated. Please use `save_freq` to specify the frequency in number of batches seen.\n"
          ]
        }
      ]
    },
    {
      "cell_type": "code",
      "source": [
        "import tensorflow.keras as keras\n",
        "model = keras.models.load_model('/content/drive/MyDrive/motion_detection/model/v2/')"
      ],
      "metadata": {
        "id": "dxZfMlRMjZsr"
      },
      "execution_count": null,
      "outputs": []
    },
    {
      "cell_type": "code",
      "source": [
        "model"
      ],
      "metadata": {
        "id": "1NuTAHXtAOfp",
        "colab": {
          "base_uri": "https://localhost:8080/"
        },
        "outputId": "b070d3a8-9c0c-45c1-b82d-343397a193d8"
      },
      "execution_count": null,
      "outputs": [
        {
          "output_type": "execute_result",
          "data": {
            "text/plain": [
              "<keras.engine.functional.Functional at 0x7fe3bb180910>"
            ]
          },
          "metadata": {},
          "execution_count": 22
        }
      ]
    },
    {
      "cell_type": "code",
      "source": [
        "import matplotlib.pyplot as plt\n",
        "import matplotlib.image as mpimg"
      ],
      "metadata": {
        "id": "fQ8mik-FT-IL"
      },
      "execution_count": null,
      "outputs": []
    },
    {
      "cell_type": "code",
      "source": [
        "test_gen = data_generator(val_df,1)\n",
        "X, y = next(test_gen)\n"
      ],
      "metadata": {
        "id": "w6yQCGUN2eCy"
      },
      "execution_count": null,
      "outputs": []
    },
    {
      "cell_type": "code",
      "source": [
        "for x in X:\n",
        "    print(x.shape)\n",
        "print(y.shape)"
      ],
      "metadata": {
        "colab": {
          "base_uri": "https://localhost:8080/"
        },
        "id": "WisxDM0rOeLi",
        "outputId": "233bd49f-6e21-4e24-82b2-98b11831bb98"
      },
      "execution_count": null,
      "outputs": [
        {
          "output_type": "stream",
          "name": "stdout",
          "text": [
            "(1, 384, 384, 3)\n",
            "(1, 384, 384, 3)\n",
            "(1, 1, 1, 1)\n",
            "(1, 384, 384, 3)\n"
          ]
        }
      ]
    },
    {
      "cell_type": "code",
      "source": [
        "X[2]"
      ],
      "metadata": {
        "colab": {
          "base_uri": "https://localhost:8080/"
        },
        "id": "-_Cvy9wWK-Kb",
        "outputId": "a40e4322-9c17-4a1b-d547-97fec0699bb1"
      },
      "execution_count": null,
      "outputs": [
        {
          "output_type": "execute_result",
          "data": {
            "text/plain": [
              "array([[[[55.76395437]]]])"
            ]
          },
          "metadata": {},
          "execution_count": 32
        }
      ]
    },
    {
      "cell_type": "code",
      "source": [
        "out = model.predict([X])"
      ],
      "metadata": {
        "id": "Jyn4LsSMk6N3"
      },
      "execution_count": null,
      "outputs": []
    },
    {
      "cell_type": "code",
      "source": [
        "y[0].shape, out[0].shape"
      ],
      "metadata": {
        "colab": {
          "base_uri": "https://localhost:8080/"
        },
        "id": "oI4NsHr3lXiL",
        "outputId": "f61ba1f8-1cbd-4efa-e4e8-799c034d213b"
      },
      "execution_count": null,
      "outputs": [
        {
          "output_type": "execute_result",
          "data": {
            "text/plain": [
              "((384, 384, 3), (384, 384, 3))"
            ]
          },
          "metadata": {},
          "execution_count": 44
        }
      ]
    },
    {
      "cell_type": "code",
      "source": [
        "np.amax(out[0])"
      ],
      "metadata": {
        "colab": {
          "base_uri": "https://localhost:8080/"
        },
        "id": "ogtJ1hQ8LPVL",
        "outputId": "77228e0a-4cbf-4425-871a-5f6fb52b12e4"
      },
      "execution_count": null,
      "outputs": [
        {
          "output_type": "execute_result",
          "data": {
            "text/plain": [
              "1.2084045"
            ]
          },
          "metadata": {},
          "execution_count": 46
        }
      ]
    },
    {
      "cell_type": "code",
      "source": [
        "plt.subplot(1,2,1)\n",
        "plt.title(label ='actual output')\n",
        "plt.imshow(y[0])\n",
        "plt.subplot(1,2,2)\n",
        "plt.title(label ='predicted output')\n",
        "plt.imshow(out[0])"
      ],
      "metadata": {
        "colab": {
          "base_uri": "https://localhost:8080/",
          "height": 251
        },
        "id": "Hxe04gt4T0uR",
        "outputId": "e413dbf2-6e90-4de4-d071-687d96caef5b"
      },
      "execution_count": null,
      "outputs": [
        {
          "output_type": "stream",
          "name": "stderr",
          "text": [
            "Clipping input data to the valid range for imshow with RGB data ([0..1] for floats or [0..255] for integers).\n"
          ]
        },
        {
          "output_type": "execute_result",
          "data": {
            "text/plain": [
              "<matplotlib.image.AxesImage at 0x7fe312eaea10>"
            ]
          },
          "metadata": {},
          "execution_count": 27
        },
        {
          "output_type": "display_data",
          "data": {
            "text/plain": [
              "<Figure size 432x288 with 2 Axes>"
            ],
            "image/png": "[encoded data removed]"
          },
          "metadata": {
            "needs_background": "light"
          }
        }
      ]
    },
    {
      "cell_type": "code",
      "source": [
        "def extractImages(pathIn, pathOut):\n",
        "    count = 0\n",
        "    vidcap = cv2.VideoCapture(pathIn)\n",
        "    success,image = vidcap.read()\n",
        "    success = True\n",
        "    while success:\n",
        "        # vidcap.set(cv2.CAP_PROP_POS_MSEC,(count*1000))    # added this line \n",
        "        success,image = vidcap.read()\n",
        "        print ('Read a new frame: ', success)\n",
        "        cv2.imwrite( pathOut + \"\\\\frame%d.jpg\" % count, image)     # save frame as JPEG file\n",
        "        count = count + 1"
      ],
      "metadata": {
        "id": "Vn4lZRvdLOWt"
      },
      "execution_count": null,
      "outputs": []
    },
    {
      "cell_type": "code",
      "source": [
        "# extractImages('/content/drive/MyDrive/motion_detection/video/baby.mp4', '/content/drive/MyDrive/motion_detection/video/baby_v1')"
      ],
      "metadata": {
        "id": "QNSc164lM6is"
      },
      "execution_count": null,
      "outputs": []
    },
    {
      "cell_type": "code",
      "source": [
        "def generateVideo(images, outputpath, width=384, height=384):\n",
        "    fourcc=cv2.VideoWriter_fourcc('X', 'V', 'I', 'D')\n",
        "    video = cv2.VideoWriter(outputpath, fourcc, float(60), (width, height))\n",
        "    for image in images:\n",
        "        image = (image*255).astype(np.uint8)\n",
        "        video.write(image)\n",
        "    cv2.destroyAllWindows() \n",
        "    video.release()"
      ],
      "metadata": {
        "id": "Cfw53MXZVy8S"
      },
      "execution_count": null,
      "outputs": []
    },
    {
      "cell_type": "code",
      "source": [
        "image_base_path = '/content/drive/MyDrive/motion_detection/video/baby_v1\\\\'\n",
        "i = 0\n",
        "image_path = '{}frame{}.jpg'.format(image_base_path, i)\n",
        "in_images = []\n",
        "while os.path.exists(image_path):\n",
        "    pic_bgr_arr = cv2.imread(image_path)\n",
        "    pic_rgb_arr = cv2.cvtColor(pic_bgr_arr, cv2.COLOR_BGR2RGB)\n",
        "    pic_rgb_arr = cv2.resize(pic_rgb_arr, (384, 384), interpolation = cv2.INTER_AREA)\n",
        "    pic_rgb_arr = pic_rgb_arr/255\n",
        "    in_images.append(pic_rgb_arr)\n",
        "    i = i+1\n",
        "    image_path = '{}frame{}.jpg'.format(image_base_path, i)\n"
      ],
      "metadata": {
        "id": "mQyQP-5oTKnJ"
      },
      "execution_count": null,
      "outputs": []
    },
    {
      "cell_type": "code",
      "source": [
        "out_images = []\n",
        "mf = np.array(np.reshape([30], (1, 1, 1, 1)), dtype=np.float)\n",
        "for i in range(1, len(in_images)):\n",
        "    frameA = np.array([in_images[i-1]])\n",
        "    frameB = np.array([in_images[i]])\n",
        "    X = [frameA, frameB, mf]\n",
        "    # print(frameA.shape, frameB.shape, mf.shape)\n",
        "    out = model.predict([X])\n",
        "    out_images.append(out[0])"
      ],
      "metadata": {
        "colab": {
          "base_uri": "https://localhost:8080/"
        },
        "id": "q3uNE3VbXtyb",
        "outputId": "f7b66fd0-c4df-4d60-d081-9e2b5862b3fb"
      },
      "execution_count": null,
      "outputs": [
        {
          "output_type": "stream",
          "name": "stderr",
          "text": [
            "/usr/local/lib/python3.7/dist-packages/ipykernel_launcher.py:2: DeprecationWarning: `np.float` is a deprecated alias for the builtin `float`. To silence this warning, use `float` by itself. Doing this will not modify any behavior and is safe. If you specifically wanted the numpy scalar type, use `np.float64` here.\n",
            "Deprecated in NumPy 1.20; for more details and guidance: https://numpy.org/devdocs/release/1.20.0-notes.html#deprecations\n",
            "  \n"
          ]
        }
      ]
    },
    {
      "cell_type": "code",
      "source": [
        "final_video_path = '/content/drive/MyDrive/motion_detection/final/baby_v1.avi'\n",
        "generateVideo(out_images, final_video_path)"
      ],
      "metadata": {
        "id": "1BTuBFWVd6V6"
      },
      "execution_count": null,
      "outputs": []
    },
    {
      "cell_type": "code",
      "source": [
        ""
      ],
      "metadata": {
        "id": "moNnvpPLV-J4",
        "colab": {
          "base_uri": "https://localhost:8080/"
        },
        "outputId": "4af9e2fd-2077-42da-a000-6a7dcc2ad705"
      },
      "execution_count": null,
      "outputs": [
        {
          "output_type": "execute_result",
          "data": {
            "text/plain": [
              "299"
            ]
          },
          "metadata": {},
          "execution_count": 55
        }
      ]
    }
  ]
}